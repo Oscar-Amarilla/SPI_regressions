{
 "cells": [
  {
   "cell_type": "code",
   "execution_count": 1,
   "id": "8b105b5c",
   "metadata": {},
   "outputs": [
    {
     "ename": "ImportError",
     "evalue": "cannot import name 'stepwise_linear_regression' from 'src.stepwise_regression' (/home/oscar_amarilla/Pasantia/SPI_regression/src/stepwise_regression.py)",
     "output_type": "error",
     "traceback": [
      "\u001b[0;31m---------------------------------------------------------------------------\u001b[0m",
      "\u001b[0;31mImportError\u001b[0m                               Traceback (most recent call last)",
      "File \u001b[0;32m~/Pasantia/SPI_regression/spi_mei_multi_regression.py:9\u001b[0m\n\u001b[1;32m      5\u001b[0m \u001b[38;5;28;01mimport\u001b[39;00m \u001b[38;5;21;01mnumpy\u001b[39;00m \u001b[38;5;28;01mas\u001b[39;00m \u001b[38;5;21;01mnp\u001b[39;00m\n\u001b[1;32m      7\u001b[0m \u001b[38;5;28;01mimport\u001b[39;00m \u001b[38;5;21;01mos\u001b[39;00m \n\u001b[0;32m----> 9\u001b[0m \u001b[38;5;28;01mfrom\u001b[39;00m \u001b[38;5;21;01msrc\u001b[39;00m\u001b[38;5;21;01m.\u001b[39;00m\u001b[38;5;21;01mstepwise_regression\u001b[39;00m \u001b[38;5;28;01mimport\u001b[39;00m stepwise_linear_regression\n\u001b[1;32m     11\u001b[0m \u001b[38;5;28;01mimport\u001b[39;00m \u001b[38;5;21;01mwarnings\u001b[39;00m\n\u001b[1;32m     13\u001b[0m warnings\u001b[38;5;241m.\u001b[39mfilterwarnings(\u001b[38;5;124m'\u001b[39m\u001b[38;5;124mignore\u001b[39m\u001b[38;5;124m'\u001b[39m)\n",
      "\u001b[0;31mImportError\u001b[0m: cannot import name 'stepwise_linear_regression' from 'src.stepwise_regression' (/home/oscar_amarilla/Pasantia/SPI_regression/src/stepwise_regression.py)"
     ]
    }
   ],
   "source": [
    "run spi_mei_multi_regression"
   ]
  },
  {
   "cell_type": "markdown",
   "id": "0fdb4fcb",
   "metadata": {},
   "source": [
    "La lista _mei_ contiene 12 dataframes, en orden ascendente, cada dataframe obedece al siguiente formato: \n",
    "\n",
    "Una fila en particular corresponde a un _array_ de 12 valores\n",
    "\n",
    "\\begin{equation}\n",
    "[mes_i/mes_{i+1}(-1) ... mes_{i-1}/mes_{i}(0)]\n",
    "\\end{equation}\n",
    "\n",
    "donde los $i \\in mod12 + 1$. El índice de la fila determina un año del periodo 1981-2010, representando el 0 a 1980. Dentro de la nomenclatura del array (0) un valor del año de interés y (-1) india un valor de MEI de un año anterior. \n",
    "\n",
    "La posición de un dataframe dentro de la lista _mei_ indica el mes de interés."
   ]
  },
  {
   "cell_type": "markdown",
   "id": "266a69b7",
   "metadata": {},
   "source": [
    "Los datos de SPI de cada estación se encuentran en listas individuales cuyos nombres se correspondes con la estación respectiva.\n",
    "\n",
    "Cada lista contiene 12 daframes; la ubicación de cada dataframe representa el índice del SPI, esto es, la posición 0 indica el SPI$_1$ y la posición 11 el SPI$_{12}$.\n",
    "\n",
    "En un dataframe, cada columna representa un mes del año y cada fila un año en particular. El índice de la fila se corresponde con el año a la que pertenecen los valores de SPI, siendo 0 el que respecta a 1980 y 29 al año 2010."
   ]
  },
  {
   "cell_type": "markdown",
   "id": "bf4f11e4",
   "metadata": {},
   "source": [
    "Las regresiones multilineales de un responden a la expresión\n",
    "\n",
    "\\begin{equation}\n",
    "\\hat{SPI}_{n_{i}} = [a_j]_i^T \\cdot [mei_j]_i + b_i \n",
    "\\end{equation}\n",
    "\n",
    "siendo $[a_j]_i, [mei_j]_i \\in \\mathbb{R}^{12 \\times 1}$ e indicando $n$ el índice del SPI e $i$ el mes. \n",
    "\n",
    "Por ejemplo, la regresión del SPI$_1$ de enero se calcula por medio de la ecuación\n",
    "\n",
    "\\begin{equation}\n",
    "\\hat{SPI}_{1_{0}} = a_{0_1} \\cdot mei_{E/F}(-1) + \\cdots + a_{0_{12}} \\cdot mei_{D/E}(0) + b_0 \n",
    "\\end{equation}\n",
    "\n",
    "Las regresiones fueron hechas aplicando la función _LinearRegression_, el cual forma parte del paquete sklearn. Los coeficientes, el término independiente y el valor $r^2$ fueron almacenados en listas cuyos nombres se corresponden con la estación de la que se tomaron los datos y concatenado con la extensión _Regr.\n",
    "\n",
    "La posición de un dataframe dentro de la lista refiere al índice del SPI que se busca aproximar, siendo la posición 0 el dataframe que contiene los valores relacionados con el $\\hat{SPI}_1$, y la posición 11, un dataframe relacionado con $\\hat{SPI}_{12}$.\n",
    "\n",
    "En un dataframe, las primeras 12 columnas representan los coeficientes de la regresión, la penúltima representa los valores del término independiente y la última los valores de $r^2$. Cada fila se corresponde con un mes en particular, siendo la fila 0 la que contiene los valore de la regresión para el SPI del mes de enero y, la fila 11, la correspondiente a la regresión del SPI para el mes de diciembre.  "
   ]
  },
  {
   "cell_type": "code",
   "execution_count": 2,
   "id": "bb31ba4e",
   "metadata": {},
   "outputs": [],
   "source": [
    "from sklearn.preprocessing import StandardScaler"
   ]
  },
  {
   "cell_type": "code",
   "execution_count": 3,
   "id": "ded002bf",
   "metadata": {},
   "outputs": [],
   "source": [
    "def df_describe(dataframe):\n",
    "    \n",
    "    df_flatted = dataframe.values.flatten()\n",
    "    \n",
    "    return pd.Series(df_flatted).describe()"
   ]
  },
  {
   "cell_type": "code",
   "execution_count": 4,
   "id": "c5c44c46",
   "metadata": {
    "scrolled": true
   },
   "outputs": [
    {
     "ename": "NameError",
     "evalue": "name 'mei' is not defined",
     "output_type": "error",
     "traceback": [
      "\u001b[0;31m---------------------------------------------------------------------------\u001b[0m",
      "\u001b[0;31mNameError\u001b[0m                                 Traceback (most recent call last)",
      "Cell \u001b[0;32mIn[4], line 1\u001b[0m\n\u001b[0;32m----> 1\u001b[0m df_describe(\u001b[43mmei\u001b[49m[\u001b[38;5;241m1\u001b[39m])\n",
      "\u001b[0;31mNameError\u001b[0m: name 'mei' is not defined"
     ]
    }
   ],
   "source": [
    "df_describe(mei[1])"
   ]
  },
  {
   "cell_type": "markdown",
   "id": "2bf7131b",
   "metadata": {},
   "source": []
  },
  {
   "cell_type": "code",
   "execution_count": null,
   "id": "9b876805",
   "metadata": {
    "scrolled": true
   },
   "outputs": [],
   "source": [
    "CME_correlaciones[3][0]"
   ]
  },
  {
   "cell_type": "code",
   "execution_count": null,
   "id": "a83fd56f",
   "metadata": {},
   "outputs": [],
   "source": [
    "CME_anovas[3][0]"
   ]
  },
  {
   "cell_type": "code",
   "execution_count": null,
   "id": "04a32e52",
   "metadata": {},
   "outputs": [],
   "source": [
    "CME[0]"
   ]
  }
 ],
 "metadata": {
  "kernelspec": {
   "display_name": "Python 3 (ipykernel)",
   "language": "python",
   "name": "python3"
  },
  "language_info": {
   "codemirror_mode": {
    "name": "ipython",
    "version": 3
   },
   "file_extension": ".py",
   "mimetype": "text/x-python",
   "name": "python",
   "nbconvert_exporter": "python",
   "pygments_lexer": "ipython3",
   "version": "3.10.10"
  }
 },
 "nbformat": 4,
 "nbformat_minor": 5
}
